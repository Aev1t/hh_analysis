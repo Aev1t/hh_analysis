{
 "cells": [
  {
   "cell_type": "code",
   "execution_count": 23,
   "metadata": {},
   "outputs": [
    {
     "data": {
      "text/plain": [
       "False"
      ]
     },
     "execution_count": 23,
     "metadata": {},
     "output_type": "execute_result"
    }
   ],
   "source": [
    "list1 = ['Один', 'два']\n",
    "list2 = list1.copy()\n",
    "list3 = ['два', 'Один']\n",
    "list1[0:2]\n",
    "['Один', 'два'] in list1"
   ]
  },
  {
   "cell_type": "code",
   "execution_count": 15,
   "metadata": {},
   "outputs": [
    {
     "data": {
      "text/plain": [
       "'Один два'"
      ]
     },
     "execution_count": 15,
     "metadata": {},
     "output_type": "execute_result"
    }
   ],
   "source": [
    "third = str(list1[0] + \" \" + list1[1])\n",
    "third\n"
   ]
  },
  {
   "cell_type": "code",
   "execution_count": 35,
   "metadata": {},
   "outputs": [
    {
     "data": {
      "text/plain": [
       "'Женщина'"
      ]
     },
     "execution_count": 35,
     "metadata": {},
     "output_type": "execute_result"
    }
   ],
   "source": [
    "value1 = 'Женщина, 21 год, не замужем'\n",
    "a = value1.split(sep=',')[1].split(' ')[1]\n",
    "b = value1.split(sep=',')[0]\n",
    "b"
   ]
  }
 ],
 "metadata": {
  "interpreter": {
   "hash": "420752d37535503e980ab554f7902b8fd30aa2930ee23f8dac9ff15a84df8c98"
  },
  "kernelspec": {
   "display_name": "Python 3.9.12 ('Second')",
   "language": "python",
   "name": "python3"
  },
  "language_info": {
   "codemirror_mode": {
    "name": "ipython",
    "version": 3
   },
   "file_extension": ".py",
   "mimetype": "text/x-python",
   "name": "python",
   "nbconvert_exporter": "python",
   "pygments_lexer": "ipython3",
   "version": "3.9.12"
  },
  "orig_nbformat": 4
 },
 "nbformat": 4,
 "nbformat_minor": 2
}
